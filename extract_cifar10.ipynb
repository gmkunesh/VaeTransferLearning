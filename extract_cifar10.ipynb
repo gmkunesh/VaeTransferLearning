{
 "cells": [
  {
   "cell_type": "code",
   "execution_count": 62,
   "metadata": {},
   "outputs": [],
   "source": [
    "import pickle\n",
    "import numpy as np"
   ]
  },
  {
   "cell_type": "code",
   "execution_count": null,
   "metadata": {},
   "outputs": [],
   "source": [
    "def unpickle(file):\n",
    "    with open(file, 'rb') as fo:\n",
    "        dict = pickle.load(fo, encoding='bytes')  # Ensure 'bytes' encoding is used\n",
    "    return dict"
   ]
  },
  {
   "cell_type": "code",
   "execution_count": 171,
   "metadata": {},
   "outputs": [],
   "source": [
    "# separate classes\n",
    "animals = [b'bird', b'cat', b'deer', b'dog', b'frog', b'horse']\n",
    "vehicles = [b'airplane', b'automobile', b'ship', b'truck']\n",
    "\n",
    "# initialize empty list\n",
    "all_label = []\n",
    "all_data = []\n",
    "\n",
    "animal_label = []\n",
    "animal_data = []\n",
    "\n",
    "vehicle_label = []\n",
    "vehicle_data = []\n",
    "\n",
    "folder = \"./cifar-10-batches-py/\" # folder path\n",
    "meta = unpickle(folder  + \"batches.meta\")\n",
    "\n",
    "# read files and extract animal and vehicle classes\n",
    "for i in range(6):\n",
    "\n",
    "    # data_batch\n",
    "    if i < 5:\n",
    "        batch = unpickle(folder  + f\"data_batch_{i + 1}\")\n",
    "    else:\n",
    "        batch = unpickle(folder  + \"test_batch\")\n",
    "\n",
    "    labels = np.array(batch[b'labels'])\n",
    "    data = np.array(batch[b'data'])\n",
    "\n",
    "    all_label.append(labels)\n",
    "    all_data.append(data)\n",
    "\n",
    "    # extract airplane data\n",
    "    animal_idx = []\n",
    "    for a in animals:\n",
    "        animal_idx.extend(np.where(labels == meta[b'label_names'].index(a))[0])\n",
    "\n",
    "    animal_label.append(labels[animal_idx])\n",
    "    animal_data.append(data[animal_idx])\n",
    "\n",
    "    # extract airplane data\n",
    "    vehicle_idx = []\n",
    "    for v in vehicles:\n",
    "        vehicle_idx.extend(np.where(labels == meta[b'label_names'].index(v))[0])\n",
    "\n",
    "    vehicle_label.append(labels[vehicle_idx])\n",
    "    vehicle_data.append(data[vehicle_idx])\n",
    "\n",
    "# combine the data\n",
    "all_label = np.hstack(all_label)\n",
    "all_data = np.vstack(all_data)\n",
    "\n",
    "animal_label = np.hstack(animal_label)\n",
    "animal_data = np.vstack(animal_data)\n",
    "\n",
    "vehicle_label = np.hstack(vehicle_label)\n",
    "vehicle_data = np.vstack(vehicle_data)\n"
   ]
  },
  {
   "cell_type": "code",
   "execution_count": 172,
   "metadata": {},
   "outputs": [],
   "source": [
    "from scipy.io import savemat\n",
    "all_dict = {\n",
    "    'data': animal_data,\n",
    "    'label': animal_label\n",
    "}\n",
    "\n",
    "animal_dict = {\n",
    "    'data': animal_data,\n",
    "    'label': animal_label\n",
    "}\n",
    "\n",
    "vehicle_dict = {\n",
    "    'data': vehicle_data,\n",
    "    'label': vehicle_label\n",
    "}\n",
    "\n",
    "savemat(\"./data/cifar10_original.mat\", all_dict)\n",
    "savemat(\"./data/cifar10_animal.mat\", animal_dict)\n",
    "savemat(\"./data/cifar10_vehicle.mat\", vehicle_dict)"
   ]
  },
  {
   "cell_type": "code",
   "execution_count": 170,
   "metadata": {},
   "outputs": [
    {
     "name": "stdout",
     "output_type": "stream",
     "text": [
      "(60000,)\n",
      "(60000, 3072)\n",
      "(36000,)\n",
      "(36000, 3072)\n",
      "(24000,)\n",
      "(24000, 3072)\n"
     ]
    }
   ],
   "source": [
    "# check shape\n",
    "print(all_label.shape)\n",
    "print(all_data.shape)\n",
    "\n",
    "print(animal_label.shape)\n",
    "print(animal_data.shape)\n",
    "\n",
    "print(vehicle_label.shape)\n",
    "print(vehicle_data.shape)\n",
    "\n",
    "# check data\n",
    "# import matplotlib.pyplot as plt\n",
    "# a = airplane_data[2]\n",
    "# image = a.reshape(3, 32, 32).transpose(1, 2, 0)\n",
    "# plt.imshow(image)"
   ]
  },
  {
   "cell_type": "code",
   "execution_count": null,
   "metadata": {},
   "outputs": [],
   "source": []
  }
 ],
 "metadata": {
  "kernelspec": {
   "display_name": "Python 3",
   "language": "python",
   "name": "python3"
  },
  "language_info": {
   "codemirror_mode": {
    "name": "ipython",
    "version": 3
   },
   "file_extension": ".py",
   "mimetype": "text/x-python",
   "name": "python",
   "nbconvert_exporter": "python",
   "pygments_lexer": "ipython3",
   "version": "3.10.12"
  }
 },
 "nbformat": 4,
 "nbformat_minor": 2
}
