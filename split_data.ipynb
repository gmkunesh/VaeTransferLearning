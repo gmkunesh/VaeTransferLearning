{
 "cells": [
  {
   "cell_type": "code",
   "execution_count": 6,
   "id": "d0a54898",
   "metadata": {},
   "outputs": [],
   "source": [
    "import numpy as np"
   ]
  },
  {
   "cell_type": "code",
   "execution_count": 8,
   "id": "793c35d6",
   "metadata": {},
   "outputs": [],
   "source": [
    "from scipy.io import loadmat\n",
    "mnist = loadmat(\"./data/mnist-original.mat\")\n",
    "mnist_data = mnist[\"data\"].T\n",
    "mnist_label = mnist[\"label\"][0]"
   ]
  },
  {
   "cell_type": "code",
   "execution_count": 16,
   "id": "bbeaff9a",
   "metadata": {},
   "outputs": [],
   "source": [
    "n = len(mnist_data)\n",
    "\n",
    "even_idx = mnist_label % 2 == 0\n",
    "odd_idx = mnist_label % 2 == 1\n",
    "\n",
    "even_data = mnist_data[even_idx]\n",
    "odd_data = mnist_data[odd_idx]\n",
    "\n",
    "even_label = mnist_label[even_idx]\n",
    "odd_label = mnist_label[odd_idx]"
   ]
  },
  {
   "cell_type": "code",
   "execution_count": 17,
   "id": "142d1125",
   "metadata": {},
   "outputs": [],
   "source": [
    "from scipy.io import savemat\n",
    "even_dict = {\n",
    "    'even_data': even_data,\n",
    "    'even_label': even_label\n",
    "}\n",
    "\n",
    "odd_dict = {\n",
    "    'odd_data': odd_data,\n",
    "    'odd_label': odd_label\n",
    "}\n",
    "\n",
    "savemat(\"./data/mnist_even.mat\", even_dict)\n",
    "savemat(\"./data/mnist_odd.mat\", odd_dict)"
   ]
  },
  {
   "cell_type": "code",
   "execution_count": 57,
   "id": "d2f19100",
   "metadata": {},
   "outputs": [],
   "source": []
  },
  {
   "cell_type": "code",
   "execution_count": 51,
   "id": "1f1733df",
   "metadata": {},
   "outputs": [],
   "source": [
    "# import matplotlib.pyplot as plt\n",
    "# pic1 = np.reshape(mnist_data[0], (28, 28))\n",
    "# plt.imshow(pic1, cmap='gray')\n",
    "# plt.show()"
   ]
  },
  {
   "cell_type": "code",
   "execution_count": 22,
   "id": "bfccdd82",
   "metadata": {},
   "outputs": [
    {
     "name": "stdout",
     "output_type": "stream",
     "text": [
      "1.0\n",
      "3.0\n",
      "5.0\n",
      "7.0\n",
      "9.0\n"
     ]
    }
   ],
   "source": [
    "a = []\n",
    "for d in odd_label:\n",
    "    if d in a:\n",
    "        continue\n",
    "    else:\n",
    "        a.append(d)\n",
    "        print(d)"
   ]
  },
  {
   "cell_type": "code",
   "execution_count": null,
   "id": "bc729133",
   "metadata": {},
   "outputs": [],
   "source": []
  }
 ],
 "metadata": {
  "kernelspec": {
   "display_name": "Python 3 (ipykernel)",
   "language": "python",
   "name": "python3"
  },
  "language_info": {
   "codemirror_mode": {
    "name": "ipython",
    "version": 3
   },
   "file_extension": ".py",
   "mimetype": "text/x-python",
   "name": "python",
   "nbconvert_exporter": "python",
   "pygments_lexer": "ipython3",
   "version": "3.11.5"
  }
 },
 "nbformat": 4,
 "nbformat_minor": 5
}
