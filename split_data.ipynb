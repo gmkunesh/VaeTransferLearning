{
 "cells": [
  {
   "cell_type": "code",
   "execution_count": 1,
   "id": "d0a54898",
   "metadata": {},
   "outputs": [],
   "source": [
    "import numpy as np"
   ]
  },
  {
   "cell_type": "code",
   "execution_count": 2,
   "id": "793c35d6",
   "metadata": {},
   "outputs": [],
   "source": [
    "from scipy.io import loadmat\n",
    "mnist = loadmat(\"./data/mnist_all.mat\")\n",
    "mnist_data = mnist[\"data\"]\n",
    "mnist_label = mnist[\"label\"][0]"
   ]
  },
  {
   "cell_type": "code",
   "execution_count": 3,
   "id": "bbeaff9a",
   "metadata": {},
   "outputs": [],
   "source": [
    "n = len(mnist_data)\n",
    "\n",
    "even_idx = mnist_label % 2 == 0\n",
    "odd_idx = mnist_label % 2 == 1\n",
    "\n",
    "even_data = mnist_data[even_idx]\n",
    "odd_data = mnist_data[odd_idx]\n",
    "\n",
    "even_label = mnist_label[even_idx]\n",
    "odd_label = mnist_label[odd_idx]"
   ]
  },
  {
   "cell_type": "code",
   "execution_count": 4,
   "id": "142d1125",
   "metadata": {},
   "outputs": [],
   "source": [
    "from scipy.io import savemat\n",
    "even_dict = {\n",
    "    'data': even_data,\n",
    "    'label': even_label\n",
    "}\n",
    "\n",
    "odd_dict = {\n",
    "    'data': odd_data,\n",
    "    'label': odd_label\n",
    "}\n",
    "\n",
    "savemat(\"./data/even.mat\", even_dict)\n",
    "savemat(\"./data/odd.mat\", odd_dict)"
   ]
  },
  {
   "cell_type": "code",
   "execution_count": null,
   "id": "861a7437",
   "metadata": {},
   "outputs": [],
   "source": []
  }
 ],
 "metadata": {
  "kernelspec": {
   "display_name": "Python 3",
   "language": "python",
   "name": "python3"
  },
  "language_info": {
   "codemirror_mode": {
    "name": "ipython",
    "version": 3
   },
   "file_extension": ".py",
   "mimetype": "text/x-python",
   "name": "python",
   "nbconvert_exporter": "python",
   "pygments_lexer": "ipython3",
   "version": "3.10.12"
  }
 },
 "nbformat": 4,
 "nbformat_minor": 5
}
